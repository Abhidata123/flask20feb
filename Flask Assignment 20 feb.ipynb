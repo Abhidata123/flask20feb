{
 "cells": [
  {
   "cell_type": "markdown",
   "id": "fb95bd11-ba80-4552-8929-a4d2790e7c77",
   "metadata": {},
   "source": [
    "Q1. Explain GET and POST methods."
   ]
  },
  {
   "cell_type": "markdown",
   "id": "4fb17a42-460c-41c3-b39b-92287cd8c6c4",
   "metadata": {},
   "source": [
    "Ans: GET requests are intended to retrieve data from a server and do not modify the server's state. On the other hand, POST requests are used to send data to the server for processing and may modify the server's state."
   ]
  },
  {
   "cell_type": "markdown",
   "id": "90e7f953-5e98-4432-9d8e-01c281fb00c5",
   "metadata": {},
   "source": [
    "Q2. Why is request used in Flask?"
   ]
  },
  {
   "cell_type": "markdown",
   "id": "7ca958cb-c267-4b9c-92f1-179a5f58b960",
   "metadata": {},
   "source": [
    "Ans: The Flask Request Object is used to perform both sending and receiving operations from a user's browser to the server and process the request data from the server. It should be imported from the flask module."
   ]
  },
  {
   "cell_type": "markdown",
   "id": "af902dca-5d28-4e01-a2c0-2e1626fe4064",
   "metadata": {},
   "source": [
    "Q3. Why is redirect() used in Flask?"
   ]
  },
  {
   "cell_type": "markdown",
   "id": "e2fd0f2d-5fe6-470d-b4fe-b086dc768bbe",
   "metadata": {},
   "source": [
    "Ans: Flask redirect is defined as a function or utility in Flask which allows developers to redirect users to a specified URL and assign a specified status code. When this function is called, a response object is returned, and the redirection happens to the target location with the status code"
   ]
  },
  {
   "cell_type": "markdown",
   "id": "6a1be43f-2091-4dd4-b9dc-353756de0076",
   "metadata": {},
   "source": [
    "Q4. What are templates in Flask? Why is the render_template() function used?"
   ]
  },
  {
   "cell_type": "markdown",
   "id": "dcdda8bd-cb8b-458e-9af1-00872c9b7442",
   "metadata": {},
   "source": [
    "Ans: Templates are files that contain static data as well as placeholders for dynamic data. A template is rendered with specific data to produce a final document. Flask uses the Jinja template library to render templates. In your application, you will use templates to render HTML which will display in the user's browser.\n",
    "render_template is used to generate output from a template file based on the Jinja2 engine that is found in the application's templates folder. Note that render_template is typically imported directly from the flask package instead of from flask."
   ]
  },
  {
   "cell_type": "markdown",
   "id": "e0dfa2f7-f9e8-4ae8-809f-2ef814e336f9",
   "metadata": {},
   "source": [
    "Q5. Create a simple API. Use Postman to test it. Attach the screenshot of the output in the Jupyter Notebook."
   ]
  },
  {
   "cell_type": "code",
   "execution_count": null,
   "id": "4f949b80-dcc8-4a61-b095-40f625ee5117",
   "metadata": {},
   "outputs": [],
   "source": [
    "from flask import Flask, jsonify, request\n",
    "\n",
    "app = Flask(__name__)\n",
    "\n",
    "# Define the company and employees data\n",
    "company = {'name': 'Acme Inc.', 'employees': [\n",
    "    {'name': 'Sarfraj', 'title': 'Data Scientist'},\n",
    "    {'name': 'Abhishek ', 'title': 'Web Developer'},\n",
    "    {'name': 'Faizan ', 'title': 'Sales Manager'}\n",
    "]}\n",
    "\n",
    "# Define a route to get the company name\n",
    "@app.route('/company/name', methods=['GET'])\n",
    "def get_company_name():\n",
    "    return jsonify({'name': company['name']})\n",
    "\n",
    "# Define a route to get the employees\n",
    "@app.route('/company/employees', methods=['GET'])\n",
    "def get_employees():\n",
    "    return jsonify({'employees': company['employees']})\n",
    "\n",
    "# Define a route to add an employee\n",
    "@app.route('/company/employees', methods=['POST'])\n",
    "def add_employee():\n",
    "    employee = request.get_json()\n",
    "    company['employees'].append(employee)\n",
    "    return jsonify({'employees': company['employees']})\n",
    "\n",
    "if __name__ == '__main__':\n",
    "    app.run(debug=True)\n",
    "    \n",
    "    \n",
    "    \n",
    "    \n",
    "    \n",
    "    \n",
    "    \n",
    "    \n",
    "    \n",
    "    \n",
    "    \n",
    "    \n",
    "    "
   ]
  },
  {
   "cell_type": "code",
   "execution_count": null,
   "id": "45b1e9fb-479f-46c6-9391-5cd1e1acd222",
   "metadata": {},
   "outputs": [],
   "source": []
  }
 ],
 "metadata": {
  "kernelspec": {
   "display_name": "Python 3 (ipykernel)",
   "language": "python",
   "name": "python3"
  },
  "language_info": {
   "codemirror_mode": {
    "name": "ipython",
    "version": 3
   },
   "file_extension": ".py",
   "mimetype": "text/x-python",
   "name": "python",
   "nbconvert_exporter": "python",
   "pygments_lexer": "ipython3",
   "version": "3.10.8"
  }
 },
 "nbformat": 4,
 "nbformat_minor": 5
}
